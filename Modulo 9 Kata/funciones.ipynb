{
 "cells": [
  {
   "cell_type": "markdown",
   "metadata": {},
   "source": [
    "# Ejercicio: Uso de funciones en Python\n",
    "___\n",
    "\n",
    "## Ejercicio 1: Trabajar con argumentos en funciones\n",
    "\n",
    "Los argumentos requeridos en las funciones se utilizan cuando las funciones necesitan que esos argumentos funcionen correctamente. En este ejercicio, construirás un informe de combustible que requiere información de varias ubicaciones de combustible en todo el cohete.\n",
    "\n",
    "Comienza por crear una función que necesite tres lecturas de combustible y devuelva un informe:"
   ]
  },
  {
   "cell_type": "code",
   "execution_count": 11,
   "metadata": {},
   "outputs": [],
   "source": [
    "# Función para leer 3 tanques de combustible y muestre el promedio\n",
    "\n",
    "def fuelReadings(tank1, tank2, tank3):\n",
    "    promedio = tank1 + tank2 + tank3 / 3\n",
    "    info = f'''\n",
    "    Tanque 1: {tank1}\n",
    "    Tanque 2: {tank2}\n",
    "    Tanque 3: {tank3}\n",
    "    Promedio: {promedio}\n",
    "    '''\n",
    "    return info"
   ]
  },
  {
   "cell_type": "markdown",
   "metadata": {},
   "source": [
    "Ahora que hemos definido la función de informes, vamos a comprobarlo. Para esta misión, los tanques no están llenos:"
   ]
  },
  {
   "cell_type": "code",
   "execution_count": 12,
   "metadata": {},
   "outputs": [
    {
     "name": "stdout",
     "output_type": "stream",
     "text": [
      "\n",
      "    Tanque 1: 0\n",
      "    Tanque 2: 0\n",
      "    Tanque 3: 0\n",
      "    Promedio: 0.0\n",
      "    \n"
     ]
    }
   ],
   "source": [
    "# Llamamos a la función que genera el reporte print(funcion(tanque1, tanque2, tanque3))\n",
    "print(fuelReadings(0,0,0))"
   ]
  },
  {
   "cell_type": "markdown",
   "metadata": {},
   "source": [
    "En lugar de simplemente crear el informe, la función también está calculando el promedio. Mejora la legibilidad extrayendo el cálculo promedio de la función en una nueva función para que el promedio se pueda hacer de forma independiente:"
   ]
  },
  {
   "cell_type": "code",
   "execution_count": 15,
   "metadata": {},
   "outputs": [],
   "source": [
    "# Funcion Promedio.\n",
    "def promedio(*datos):\n",
    "    suma = 0\n",
    "    for data in datos:\n",
    "        suma += data\n",
    "\n",
    "    promedio = suma / len(datos)\n",
    "\n",
    "    return promedio"
   ]
  },
  {
   "cell_type": "markdown",
   "metadata": {},
   "source": [
    "Ahora actualiza la función de informes pero llamando a la nueva función del promedio:"
   ]
  },
  {
   "cell_type": "code",
   "execution_count": 16,
   "metadata": {},
   "outputs": [
    {
     "name": "stdout",
     "output_type": "stream",
     "text": [
      "\n",
      "    Tanque 1: 29\n",
      "    Tanque 2: 29\n",
      "    Tanque 3: 45\n",
      "    Promedio: 34.333333333333336\n",
      "    \n"
     ]
    }
   ],
   "source": [
    "def fuelReadings(tank1, tank2, tank3):\n",
    "    info = f'''\n",
    "    Tanque 1: {tank1}\n",
    "    Tanque 2: {tank2}\n",
    "    Tanque 3: {tank3}\n",
    "    Promedio: {promedio(tank1,tank2,tank3)}\n",
    "    '''\n",
    "    return info\n",
    "\n",
    "\n",
    "print(fuelReadings(29,29,45))"
   ]
  }
 ],
 "metadata": {
  "interpreter": {
   "hash": "964692f11ca442c058d50af48a56d38285b2636afb6ae19457d2fcf8017e36f2"
  },
  "kernelspec": {
   "display_name": "Python 3.10.2 64-bit",
   "language": "python",
   "name": "python3"
  },
  "language_info": {
   "codemirror_mode": {
    "name": "ipython",
    "version": 3
   },
   "file_extension": ".py",
   "mimetype": "text/x-python",
   "name": "python",
   "nbconvert_exporter": "python",
   "pygments_lexer": "ipython3",
   "version": "3.10.2"
  },
  "orig_nbformat": 4
 },
 "nbformat": 4,
 "nbformat_minor": 2
}
